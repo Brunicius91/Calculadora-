{
  "nbformat": 4,
  "nbformat_minor": 0,
  "metadata": {
    "colab": {
      "provenance": []
    },
    "kernelspec": {
      "name": "python3",
      "display_name": "Python 3"
    },
    "language_info": {
      "name": "python"
    }
  },
  "cells": [
    {
      "cell_type": "code",
      "execution_count": 23,
      "metadata": {
        "colab": {
          "base_uri": "https://localhost:8080/"
        },
        "id": "iQiEsvgifs8N",
        "outputId": "d0611b35-c379-42e2-bb3a-256e286efba1"
      },
      "outputs": [
        {
          "output_type": "stream",
          "name": "stdout",
          "text": [
            "Digite o primeiro número: 50\n",
            "Digite o segundo número: 90\n",
            "Escolha a operação desejada:\n",
            " A para adição\n",
            " S para subtração\n",
            " M para multiplicação\n",
            " D para divisão\n",
            "M\n",
            "Resultado:  4500\n"
          ]
        }
      ],
      "source": [
        "from re import A\n",
        "num1 = int(input(\"Digite o primeiro número: \")) # Recebe o valor do primeiro número e convertendo em int\n",
        "num2 = int(input(\"Digite o segundo número: \")) # Recebe o valor do segundo número e convertendo em int\n",
        "operacao = (input(\"Escolha a operação desejada:\\n A para adição\\n S para subtração\\n M para multiplicação\\n D para divisão\\n\")) # Usuário escolhe qual tipo de operação deseja efetuar: A para adição / S para subtração / M para multiplicação / D para divisão\n",
        "if operacao == 'A': #\n",
        "  adi = num1 + num2\n",
        "  print(\"Resultado: \",adi)\n",
        "elif operacao == 'S':\n",
        "  sub = num1 - num2\n",
        "  print(\"Resultado: \",sub)\n",
        "elif operacao == 'M':\n",
        "  mul = num1 * num2\n",
        "  print(\"Resultado: \", mul)\n",
        "elif operacao == 'D':\n",
        "  div = num1 / num2\n",
        "  print(\"Resultado: \",div)"
      ]
    }
  ]
}